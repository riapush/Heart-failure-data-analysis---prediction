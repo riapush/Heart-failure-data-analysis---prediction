{
 "cells": [
  {
   "cell_type": "code",
   "execution_count": null,
   "id": "58d458ef",
   "metadata": {},
   "outputs": [],
   "source": [
    "import pandas as pd\n",
    "import numpy as np\n",
    "import matplotlib.pyplot as plt\n",
    "import seaborn as sns\n",
    "from sklearn.ensemble import RandomForestClassifier\n",
    "from sklearn.model_selection import train_test_split, GridSearchCV\n",
    "from sklearn.metrics import accuracy_score, classification_report\n",
    "from sklearn.inspection import permutation_importance"
   ]
  },
  {
   "cell_type": "markdown",
   "id": "7d86fe8f",
   "metadata": {},
   "source": [
    "Questions to answer:\n",
    "Есть ли у пациентов с диабетом более высокая вероятность развития сердечных заболеваний в раннем возрасте?\n",
    "\n",
    "Есть ли определенная демографическая группа, которая подвержена более высокому риску сердечных заболеваний, чем другие?\n",
    "\n",
    "Снижают ли частые упражнения риск развития сердечных заболеваний?\n",
    "\n",
    "У курильщиков больше шансов заболеть сердечно-сосудистыми заболеваниями, чем у некурящих?"
   ]
  },
  {
   "cell_type": "code",
   "execution_count": null,
   "id": "6b900129",
   "metadata": {},
   "outputs": [],
   "source": [
    "data = pd.read_csv('heart_failure_clinical_records_dataset.csv')"
   ]
  },
  {
   "cell_type": "markdown",
   "id": "5b67a533",
   "metadata": {},
   "source": [
    "# Data analysis"
   ]
  },
  {
   "cell_type": "code",
   "execution_count": null,
   "id": "7d578403",
   "metadata": {},
   "outputs": [],
   "source": [
    "data.info()"
   ]
  },
  {
   "cell_type": "code",
   "execution_count": null,
   "id": "ec73bdc4",
   "metadata": {},
   "outputs": [],
   "source": [
    "data.head()"
   ]
  },
  {
   "cell_type": "markdown",
   "id": "f55434a3",
   "metadata": {},
   "source": [
    "## Are age and sex markers for death?"
   ]
  },
  {
   "cell_type": "code",
   "execution_count": null,
   "id": "46255415",
   "metadata": {},
   "outputs": [],
   "source": [
    "plt.hist(data['age'], color='green', edgecolor = 'black',bins = int(100/10), label='all', alpha=0.4)\n",
    "plt.hist(data[data['DEATH_EVENT'] == 1]['age'], color = 'yellow', edgecolor = 'black', bins = int(100/10), label='dead',\n",
    "         alpha=0.5)\n",
    "plt.legend()\n",
    "plt.title('Amount of death events per age group')\n",
    "plt.xlabel('Age')\n",
    "plt.ylabel('Death count')"
   ]
  },
  {
   "cell_type": "markdown",
   "id": "6ee83153",
   "metadata": {},
   "source": [
    "Death of people around 60 is more likely compared to other groups. We also see that age is a big reason for death as almost all people over 85 are dead."
   ]
  },
  {
   "cell_type": "code",
   "execution_count": null,
   "id": "5cbc89f1",
   "metadata": {},
   "outputs": [],
   "source": [
    "plt.hist(data[data['DEATH_EVENT'] == 1]['sex'], color = 'blue', edgecolor = 'black',\n",
    "         bins = int(4), alpha=0.5)\n",
    "plt.title('Amount of death events for males and females (0 - female, 1 - male)')\n",
    "plt.xlabel('Sex')\n",
    "plt.ylabel('Death count')"
   ]
  },
  {
   "cell_type": "markdown",
   "id": "951ef3f5",
   "metadata": {},
   "source": [
    "There are almost twice as many deaths in males compared to females. Let's see in persentage"
   ]
  },
  {
   "cell_type": "code",
   "execution_count": null,
   "id": "6211ee7b",
   "metadata": {
    "scrolled": true
   },
   "outputs": [],
   "source": [
    "male = data[data['sex'] == 1]\n",
    "female = data[data['sex'] == 0]\n",
    "\n",
    "pie_info = [len(male[male['DEATH_EVENT'] == 1]), len(male[male['DEATH_EVENT'] == 0]), len(female[female['DEATH_EVENT'] == 1]), len(female[female['DEATH_EVENT'] == 0])]\n",
    "labels = ['male - dead', 'male - survived', 'female - dead', 'female - survived']\n",
    "\n",
    "fig, ax = plt.subplots()\n",
    "mycmap = plt.get_cmap('viridis')\n",
    "ax.pie(pie_info, labels=labels, autopct='%1.2f%%', colors=sns.color_palette('Set3'))\n",
    "ax.set_title('Pie chart of death and sex info')"
   ]
  },
  {
   "cell_type": "markdown",
   "id": "bc13baa6",
   "metadata": {},
   "source": [
    "We can see that there are more data about men."
   ]
  },
  {
   "cell_type": "markdown",
   "id": "77254910",
   "metadata": {},
   "source": [
    "## Let's see data correlation using sns heatmap"
   ]
  },
  {
   "cell_type": "code",
   "execution_count": null,
   "id": "348aa033",
   "metadata": {},
   "outputs": [],
   "source": [
    "fig, ax = plt.subplots(figsize=(11,11))         # Sample figsize in inches\n",
    "sns.heatmap(data.corr(), cmap=\"YlGnBu\", annot=True, linewidths=.5, ax=ax)\n",
    "plt.show()"
   ]
  },
  {
   "cell_type": "markdown",
   "id": "50ff3a3b",
   "metadata": {},
   "source": [
    "We are interested in any correlation with DEATH_EVENT, anaemia, high blood pressure. First thing I'd like to to analyze is the correlation between death and serum creatinine. \\\n",
    "\\\n",
    "The typical range for serum creatinine is: For adult men, 0.74 to 1.35 mg/dL (65.4 to 119.3 micromoles/L) For adult women, 0.59 to 1.04 mg/dL (52.2 to 91.9 micromoles/L)"
   ]
  },
  {
   "cell_type": "code",
   "execution_count": null,
   "id": "9307ae98",
   "metadata": {},
   "outputs": [],
   "source": [
    "plt.figure(figsize=(10,6))\n",
    "plt.boxplot(data['serum_creatinine'], vert=False)\n",
    "plt.xlabel('Value')\n",
    "plt.title(\"Serum creatinine distribution\")\n",
    "plt.grid()"
   ]
  },
  {
   "cell_type": "code",
   "execution_count": null,
   "id": "d5cd398d",
   "metadata": {},
   "outputs": [],
   "source": [
    "# Let's see if outliers are more likely to end up dead\n",
    "\n",
    "outliers = data[data['serum_creatinine'] > 1.35]\n",
    "normal = data[data['serum_creatinine'] <= 1.35]\n",
    "\n",
    "pie_info = [len(outliers[outliers['DEATH_EVENT'] == 1]), len(outliers[outliers['DEATH_EVENT'] == 0])]\n",
    "labels = ['high creatinin lvl - dead', 'high creatinin lvl - survived']\n",
    "fig, ax1 = plt.subplots()\n",
    "ax1.pie(pie_info, labels=labels, autopct='%1.2f%%', colors=sns.color_palette('Set3'))\n",
    "ax1.set_title('Pie chart of correlation betweeen death and high creatinin level')"
   ]
  },
  {
   "cell_type": "code",
   "execution_count": null,
   "id": "548a1aa5",
   "metadata": {
    "scrolled": true
   },
   "outputs": [],
   "source": [
    "pie_info = [len(normal[normal['DEATH_EVENT'] == 1]), len(normal[normal['DEATH_EVENT'] == 0])]\n",
    "labels = ['low creatinin lvl - dead', 'low creatinin lvl - survived']\n",
    "fig, ax = plt.subplots()\n",
    "ax.pie(pie_info, labels=labels, autopct='%1.2f%%', colors=sns.color_palette('Set3'))\n",
    "ax.set_title('Pie chart of correlation betweeen death and low creatinin level')"
   ]
  },
  {
   "cell_type": "markdown",
   "id": "0ab28e1f",
   "metadata": {},
   "source": [
    "We see that people with higher creatinine level are more likely to die."
   ]
  },
  {
   "cell_type": "markdown",
   "id": "635b32b7",
   "metadata": {},
   "source": [
    "## Are patients with diabetes more likely to develop heart disease at an early age?\n"
   ]
  },
  {
   "cell_type": "code",
   "execution_count": null,
   "id": "f03c1f8e",
   "metadata": {},
   "outputs": [],
   "source": [
    "# first, let's see diabetes distribution\n",
    "plt.hist(data['age'], color='green', edgecolor = 'black',bins = int(100/10), label='all', alpha=0.4)\n",
    "plt.hist(data[data['diabetes'] == 1]['age'], color = 'yellow', edgecolor = 'black', bins = int(100/10), label='diabetes', alpha=0.3)\n",
    "plt.legend()\n",
    "plt.xlabel('Age')\n",
    "plt.ylabel('Diabetes')"
   ]
  },
  {
   "cell_type": "code",
   "execution_count": null,
   "id": "477dfca3",
   "metadata": {},
   "outputs": [],
   "source": [
    "diabetes = data[data['diabetes'] == 1]\n",
    "no_diabetes = data[data['diabetes'] == 0]\n",
    "\n",
    "print('Average age of death in people with diabetes: ', diabetes[diabetes['DEATH_EVENT'] == 1]['age'].mean())\n",
    "print('Average age of death in people without diabetes: ', no_diabetes[no_diabetes['DEATH_EVENT'] == 1]['age'].mean())"
   ]
  },
  {
   "cell_type": "code",
   "execution_count": null,
   "id": "f11a9aea",
   "metadata": {},
   "outputs": [],
   "source": [
    "x = ['diabetes', 'no diabetes']\n",
    "y = [len(diabetes[diabetes['high_blood_pressure'] == 1])/len(diabetes)*100, \n",
    "    len(no_diabetes[no_diabetes['high_blood_pressure'] == 1])/len(no_diabetes)*100]\n",
    "\n",
    "plt.pie(y, labels=x, autopct='%1.2f%%', colors=sns.color_palette('Set3'))\n",
    "plt.title('Correlation between high blood pressure and diabetes, in persentage')"
   ]
  },
  {
   "cell_type": "markdown",
   "id": "c3555ce7",
   "metadata": {},
   "source": [
    "We see no correlation between diabetes and high blood pressure, data for both groups is almost identical."
   ]
  },
  {
   "cell_type": "markdown",
   "id": "544ef57a",
   "metadata": {},
   "source": [
    "## Let's see if there's any correlation between smoking and diseases."
   ]
  },
  {
   "cell_type": "code",
   "execution_count": null,
   "id": "aaa811e0",
   "metadata": {},
   "outputs": [],
   "source": [
    "smokers = data[data['smoking'] == 1]\n",
    "non_smokers = data[data['smoking'] == 0]\n",
    "\n",
    "print(' Smokers: ', len(smokers), 'people.')\n",
    "print(' Non-smokers: ', len(non_smokers), 'people.')"
   ]
  },
  {
   "cell_type": "code",
   "execution_count": null,
   "id": "6d18fc97",
   "metadata": {},
   "outputs": [],
   "source": [
    "plt.hist(data['smoking'], color = 'blue', edgecolor = 'black',\n",
    "         bins = int(4), alpha=0.5, label='all people')\n",
    "plt.hist(data[data['DEATH_EVENT'] == 1]['smoking'], color = 'green', edgecolor = 'black',\n",
    "         bins = int(4), alpha=0.5, label='dead')\n",
    "plt.legend()\n",
    "plt.title('Amount of death events for smokers and non_smokers (0 - non-smokers, 1 - smokers)')\n",
    "plt.xlabel('Sex')\n",
    "plt.ylabel('Amount')"
   ]
  },
  {
   "cell_type": "markdown",
   "id": "29dfa637",
   "metadata": {},
   "source": [
    "We can see that there's much more deaths in non-smoking people, but compared to smokers, but it is dataset problem (too small and has a lot of smokers) and not really valid data."
   ]
  },
  {
   "cell_type": "code",
   "execution_count": null,
   "id": "0742a6d8",
   "metadata": {},
   "outputs": [],
   "source": [
    "fig, axs = plt.subplots(1, 2, figsize=(10,6))\n",
    "pie_info = [len(smokers[smokers['DEATH_EVENT'] == 1]), len(smokers[smokers['DEATH_EVENT'] == 0])]\n",
    "labels = ['smokers - dead', 'smokers - survived']\n",
    "axs[0].pie(pie_info, labels=labels, autopct='%1.2f%%', colors=sns.color_palette('Set3'))\n",
    "\n",
    "pie_info = [len(non_smokers[non_smokers['DEATH_EVENT'] == 1]), len(non_smokers[non_smokers['DEATH_EVENT'] == 0])]\n",
    "labels = ['non-smokers - dead', 'non-smokers - survived']\n",
    "axs[1].pie(pie_info, labels=labels, autopct='%1.2f%%', colors=sns.color_palette('Set3'))"
   ]
  },
  {
   "cell_type": "markdown",
   "id": "96295279",
   "metadata": {},
   "source": [
    "In propotion, we see no correlation between smoking and heart failure.\n",
    "\n",
    "## Now, let's build classification model."
   ]
  },
  {
   "cell_type": "code",
   "execution_count": null,
   "id": "688d9afd",
   "metadata": {},
   "outputs": [],
   "source": [
    "y = data['DEATH_EVENT']\n",
    "x = data.drop(['DEATH_EVENT'], axis=1)\n",
    "\n",
    "x_train, x_test, y_train, y_test = train_test_split(x,y, test_size=0.2, random_state=0)"
   ]
  },
  {
   "cell_type": "code",
   "execution_count": null,
   "id": "e67d7b66",
   "metadata": {},
   "outputs": [],
   "source": [
    "rf = RandomForestClassifier(verbose=True)\n",
    "rf_params = {\"max_depth\": range(3,19,3),\n",
    "             \"max_features\": range(3,12,2),\n",
    "             \"n_estimators\": [10, 500, 1000],\n",
    "             \"min_samples_split\": [2, 5, 10]}\n",
    "grid = GridSearchCV(rf, rf_params, cv = 10, n_jobs = -1, verbose=True)\n",
    "grid.fit(x_train, y_train)"
   ]
  },
  {
   "cell_type": "code",
   "execution_count": null,
   "id": "f7406078",
   "metadata": {},
   "outputs": [],
   "source": [
    "grid.best_params_"
   ]
  },
  {
   "cell_type": "code",
   "execution_count": null,
   "id": "b2a49d57",
   "metadata": {},
   "outputs": [],
   "source": [
    "rf_params = {\"max_depth\": range(5,8,1),\n",
    "             \"max_features\": range(6,9,1),\n",
    "             \"n_estimators\": range(2,500, 50),\n",
    "             \"min_samples_split\": [10, 20, 30, 40, 50]}"
   ]
  },
  {
   "cell_type": "code",
   "execution_count": null,
   "id": "16665b46",
   "metadata": {},
   "outputs": [],
   "source": [
    "grid = GridSearchCV(rf, rf_params, cv = 10, n_jobs = -1)\n",
    "grid.fit(x_train, y_train)"
   ]
  },
  {
   "cell_type": "code",
   "execution_count": null,
   "id": "34588769",
   "metadata": {},
   "outputs": [],
   "source": [
    "grid.best_params_"
   ]
  },
  {
   "cell_type": "code",
   "execution_count": 88,
   "id": "318e3598",
   "metadata": {},
   "outputs": [],
   "source": [
    "rf = RandomForestClassifier(max_depth=6,\n",
    " max_features=6,\n",
    " min_samples_split=20,\n",
    " n_estimators=152)"
   ]
  },
  {
   "cell_type": "code",
   "execution_count": 89,
   "id": "3cd25b60",
   "metadata": {},
   "outputs": [
    {
     "data": {
      "text/plain": [
       "RandomForestClassifier(max_depth=6, max_features=6, min_samples_split=20,\n",
       "                       n_estimators=152)"
      ]
     },
     "execution_count": 89,
     "metadata": {},
     "output_type": "execute_result"
    }
   ],
   "source": [
    "rf.fit(x_train,y_train)"
   ]
  },
  {
   "cell_type": "code",
   "execution_count": 90,
   "id": "2f409b19",
   "metadata": {},
   "outputs": [
    {
     "name": "stdout",
     "output_type": "stream",
     "text": [
      "model accuracy: 83.33333333333334%\n"
     ]
    }
   ],
   "source": [
    "y_pred = rf.predict(x_test)\n",
    "print(f'model accuracy: {accuracy_score(y_pred, y_test)*100}%')"
   ]
  },
  {
   "cell_type": "code",
   "execution_count": 91,
   "id": "6a147334",
   "metadata": {},
   "outputs": [
    {
     "name": "stdout",
     "output_type": "stream",
     "text": [
      "              precision    recall  f1-score   support\n",
      "\n",
      "           0       0.81      0.95      0.88        37\n",
      "           1       0.88      0.65      0.75        23\n",
      "\n",
      "    accuracy                           0.83        60\n",
      "   macro avg       0.85      0.80      0.81        60\n",
      "weighted avg       0.84      0.83      0.83        60\n",
      "\n"
     ]
    }
   ],
   "source": [
    "print(classification_report(y_test, y_pred))"
   ]
  },
  {
   "cell_type": "code",
   "execution_count": 68,
   "id": "ff09e391",
   "metadata": {},
   "outputs": [
    {
     "data": {
      "image/png": "[encoded data removed]",
      "text/plain": [
       "<Figure size 432x432 with 1 Axes>"
      ]
     },
     "metadata": {
      "needs_background": "light"
     },
     "output_type": "display_data"
    }
   ],
   "source": [
    "feature_names = rf.feature_names_in_\n",
    "rf_importances = pd.Series(rf.feature_importances_, index=feature_names)\n",
    "std = np.std([rf.feature_importances_ for rf in rf.estimators_], axis=0)\n",
    "\n",
    "fig, ax = plt.subplots(figsize=(6,6))\n",
    "rf_importances.plot.bar(yerr=std, ax=ax)\n",
    "ax.set_title(\"Feature importances using MDI\")\n",
    "ax.set_ylabel(\"Mean decrease in impurity\")\n",
    "fig.tight_layout()"
   ]
  },
  {
   "cell_type": "code",
   "execution_count": 69,
   "id": "7a53bf5d",
   "metadata": {},
   "outputs": [
    {
     "data": {
      "image/png": "[encoded data removed]",
      "text/plain": [
       "<Figure size 432x432 with 1 Axes>"
      ]
     },
     "metadata": {
      "needs_background": "light"
     },
     "output_type": "display_data"
    }
   ],
   "source": [
    "from sklearn.inspection import permutation_importance\n",
    "\n",
    "result = permutation_importance(rf, x_test, y_test, n_repeats=10, random_state=42, n_jobs=2)\n",
    "rf_importances = pd.Series(result.importances_mean, index=feature_names)\n",
    "\n",
    "fig, ax = plt.subplots(figsize=(6,6))\n",
    "rf_importances.plot.bar(yerr=result.importances_std, ax=ax)\n",
    "ax.set_title(\"Feature importances using permutation on full model\")\n",
    "ax.set_ylabel(\"Mean accuracy decrease\")\n",
    "fig.tight_layout()\n",
    "plt.show()"
   ]
  },
  {
   "cell_type": "markdown",
   "id": "3df44c96",
   "metadata": {},
   "source": [
    "Let's drop 5 the least important features and build new model."
   ]
  },
  {
   "cell_type": "code",
   "execution_count": 71,
   "id": "f984fe63",
   "metadata": {},
   "outputs": [],
   "source": [
    "y = data['DEATH_EVENT']\n",
    "x = data.drop(['sex', 'smoking', 'high_blood_pressure', 'anaemia', 'diabetes', 'DEATH_EVENT'], axis=1)\n",
    "\n",
    "x_train, x_test, y_train, y_test = train_test_split(x,y, test_size=0.2, random_state=0)"
   ]
  },
  {
   "cell_type": "code",
   "execution_count": 82,
   "id": "254387dc",
   "metadata": {},
   "outputs": [
    {
     "name": "stdout",
     "output_type": "stream",
     "text": [
      "model accuracy: 85.0%\n"
     ]
    }
   ],
   "source": [
    "rf = RandomForestClassifier(max_depth=7,\n",
    " max_features=1,\n",
    " min_samples_split=20,\n",
    " n_estimators=152)\n",
    "rf.fit(x_train,y_train)\n",
    "\n",
    "y_pred = rf.predict(x_test)\n",
    "print(f'model accuracy: {accuracy_score(y_pred, y_test)*100}%')"
   ]
  },
  {
   "cell_type": "code",
   "execution_count": 83,
   "id": "f9e6dcac",
   "metadata": {},
   "outputs": [
    {
     "name": "stdout",
     "output_type": "stream",
     "text": [
      "              precision    recall  f1-score   support\n",
      "\n",
      "           0       0.82      0.97      0.89        37\n",
      "           1       0.94      0.65      0.77        23\n",
      "\n",
      "    accuracy                           0.85        60\n",
      "   macro avg       0.88      0.81      0.83        60\n",
      "weighted avg       0.86      0.85      0.84        60\n",
      "\n"
     ]
    }
   ],
   "source": [
    "print(classification_report(y_test, y_pred))"
   ]
  },
  {
   "cell_type": "markdown",
   "id": "fc5d77e2",
   "metadata": {},
   "source": [
    "we've build new model with 85% accuracy."
   ]
  }
 ],
 "metadata": {
  "kernelspec": {
   "display_name": "Python 3 (ipykernel)",
   "language": "python",
   "name": "python3"
  },
  "language_info": {
   "codemirror_mode": {
    "name": "ipython",
    "version": 3
   },
   "file_extension": ".py",
   "mimetype": "text/x-python",
   "name": "python",
   "nbconvert_exporter": "python",
   "pygments_lexer": "ipython3",
   "version": "3.9.12"
  }
 },
 "nbformat": 4,
 "nbformat_minor": 5
}
